{
 "cells": [
  {
   "cell_type": "code",
   "execution_count": null,
   "metadata": {},
   "outputs": [],
   "source": []
  },
  {
   "cell_type": "markdown",
   "metadata": {},
   "source": [
    "## Kaggle Mini Project Week 4 NLP Disaster Tweets Classification using LSTM and GRU\n",
    "\n",
    "### Garrett Bainwol\n",
    "\n",
    "####  [Github Repository Link ](https://github.com/gbainwol/DTSA5511_NLP_DISASTER_KAGGLE_PROJECT)\n",
    "\n",
    "\n",
    "# Overview and Introduction\n",
    "\n",
    "Because human languages have so many rules, words, and meanings, it is difficult for computers to understand them. We are able to use metaphorical language in our writing and speaking. Many people may disclose disasters and emergencies on the social media platform Twitter more quickly and easily than they can on news organizations, law enforcement, and/or government communication platforms. \n",
    "For this reason, it would be excellent if a computer could identify those emergency posts and categorize them so that emergency assistance can be provided and news organizations can spread the story more quickly. We must be able to distinguish between tweets that refer to actual emergencies or disasters and those that are not since people frequently use words with various meanings. To categorize text in natural languages, we will employ machine learning methods such as recursive neural networks (RNNs).\n",
    "\n"
   ]
  },
  {
   "cell_type": "code",
   "execution_count": 371,
   "metadata": {
    "execution": {
     "iopub.execute_input": "2022-11-29T02:36:58.434919Z",
     "iopub.status.busy": "2022-11-29T02:36:58.434030Z",
     "iopub.status.idle": "2022-11-29T02:37:07.923773Z",
     "shell.execute_reply": "2022-11-29T02:37:07.922534Z",
     "shell.execute_reply.started": "2022-11-29T02:36:58.434881Z"
    }
   },
   "outputs": [
    {
     "name": "stdout",
     "output_type": "stream",
     "text": [
      "Requirement already satisfied: contractions in /opt/conda/lib/python3.7/site-packages (0.1.73)\n",
      "Requirement already satisfied: textsearch>=0.0.21 in /opt/conda/lib/python3.7/site-packages (from contractions) (0.0.24)\n",
      "Requirement already satisfied: pyahocorasick in /opt/conda/lib/python3.7/site-packages (from textsearch>=0.0.21->contractions) (1.4.4)\n",
      "Requirement already satisfied: anyascii in /opt/conda/lib/python3.7/site-packages (from textsearch>=0.0.21->contractions) (0.3.1)\n",
      "\u001b[33mWARNING: Running pip as the 'root' user can result in broken permissions and conflicting behaviour with the system package manager. It is recommended to use a virtual environment instead: https://pip.pypa.io/warnings/venv\u001b[0m\u001b[33m\n",
      "\u001b[0m/kaggle/input/nlp-getting-started/sample_submission.csv\n",
      "/kaggle/input/nlp-getting-started/train.csv\n",
      "/kaggle/input/nlp-getting-started/test.csv\n"
     ]
    }
   ],
   "source": [
    "# install contractions if not already installed\n",
    "!pip install contractions\n",
    "\n",
    "#checking files\n",
    "import os\n",
    "for dirname, _, filenames in os.walk('/kaggle/input'):\n",
    "    for filename in filenames:\n",
    "        print(os.path.join(dirname, filename))"
   ]
  },
  {
   "cell_type": "markdown",
   "metadata": {},
   "source": [
    "# Libraries for project"
   ]
  },
  {
   "cell_type": "code",
   "execution_count": 372,
   "metadata": {
    "execution": {
     "iopub.execute_input": "2022-11-29T02:37:07.927336Z",
     "iopub.status.busy": "2022-11-29T02:37:07.926526Z",
     "iopub.status.idle": "2022-11-29T02:37:07.939232Z",
     "shell.execute_reply": "2022-11-29T02:37:07.937914Z",
     "shell.execute_reply.started": "2022-11-29T02:37:07.927269Z"
    }
   },
   "outputs": [
    {
     "name": "stderr",
     "output_type": "stream",
     "text": [
      "[nltk_data] Downloading package stopwords to /usr/share/nltk_data...\n",
      "[nltk_data]   Package stopwords is already up-to-date!\n",
      "[nltk_data] Downloading package wordnet to /usr/share/nltk_data...\n",
      "[nltk_data]   Package wordnet is already up-to-date!\n",
      "[nltk_data] Downloading package omw-1.4 to /usr/share/nltk_data...\n",
      "[nltk_data]   Package omw-1.4 is already up-to-date!\n"
     ]
    }
   ],
   "source": [
    "# Library imports \n",
    "import numpy as np \n",
    "import pandas as pd \n",
    "import matplotlib.pyplot as plt \n",
    "import seaborn as sns\n",
    "import warnings\n",
    "warnings.simplefilter(action='ignore', category=FutureWarning)\n",
    "\n",
    "#Text preprocessing\n",
    "import contractions\n",
    "import nltk\n",
    "nltk.download('stopwords')\n",
    "nltk.download('wordnet')\n",
    "nltk.download('omw-1.4')\n",
    "from nltk.corpus import stopwords\n",
    "from nltk.stem import WordNetLemmatizer\n",
    "from tensorflow.keras.preprocessing.text import Tokenizer\n",
    "from tensorflow.keras.preprocessing.sequence import pad_sequences\n",
    "import re\n",
    "\n",
    "from sklearn.feature_extraction.text import TfidfVectorizer\n",
    "from sklearn.model_selection import train_test_split\n",
    "\n",
    "\n",
    "import tensorflow as tf\n",
    "import tensorflow_addons as tfa\n",
    "from tensorflow.keras import optimizers\n",
    "from tensorflow.keras.models import Sequential\n",
    "from tensorflow.keras.layers import Dense, Embedding, LSTM, Dropout,GRU"
   ]
  },
  {
   "cell_type": "markdown",
   "metadata": {},
   "source": [
    "# Exploratory Data Analysis "
   ]
  },
  {
   "cell_type": "code",
   "execution_count": 373,
   "metadata": {
    "execution": {
     "iopub.execute_input": "2022-11-29T02:37:07.941589Z",
     "iopub.status.busy": "2022-11-29T02:37:07.940894Z",
     "iopub.status.idle": "2022-11-29T02:37:07.991628Z",
     "shell.execute_reply": "2022-11-29T02:37:07.990773Z",
     "shell.execute_reply.started": "2022-11-29T02:37:07.941548Z"
    }
   },
   "outputs": [],
   "source": [
    "train_data = pd.read_csv(r\"../input/nlp-getting-started/train.csv\")\n",
    "test_data = pd.read_csv(r\"../input/nlp-getting-started/test.csv\")\n",
    "sample_data = pd.read_csv(r\"../input/nlp-getting-started/sample_submission.csv\")"
   ]
  },
  {
   "cell_type": "code",
   "execution_count": 374,
   "metadata": {
    "execution": {
     "iopub.execute_input": "2022-11-29T02:37:07.994668Z",
     "iopub.status.busy": "2022-11-29T02:37:07.994312Z",
     "iopub.status.idle": "2022-11-29T02:37:08.009186Z",
     "shell.execute_reply": "2022-11-29T02:37:08.007996Z",
     "shell.execute_reply.started": "2022-11-29T02:37:07.994633Z"
    }
   },
   "outputs": [
    {
     "data": {
      "text/html": [
       "<div>\n",
       "<style scoped>\n",
       "    .dataframe tbody tr th:only-of-type {\n",
       "        vertical-align: middle;\n",
       "    }\n",
       "\n",
       "    .dataframe tbody tr th {\n",
       "        vertical-align: top;\n",
       "    }\n",
       "\n",
       "    .dataframe thead th {\n",
       "        text-align: right;\n",
       "    }\n",
       "</style>\n",
       "<table border=\"1\" class=\"dataframe\">\n",
       "  <thead>\n",
       "    <tr style=\"text-align: right;\">\n",
       "      <th></th>\n",
       "      <th>id</th>\n",
       "      <th>keyword</th>\n",
       "      <th>location</th>\n",
       "      <th>text</th>\n",
       "      <th>target</th>\n",
       "    </tr>\n",
       "  </thead>\n",
       "  <tbody>\n",
       "    <tr>\n",
       "      <th>322</th>\n",
       "      <td>468</td>\n",
       "      <td>armageddon</td>\n",
       "      <td>Rotterdam, Zuid-Holland</td>\n",
       "      <td>@AberdeenFC @AberdeenFanPage \\n\\nGood luck to ...</td>\n",
       "      <td>0</td>\n",
       "    </tr>\n",
       "    <tr>\n",
       "      <th>2354</th>\n",
       "      <td>3389</td>\n",
       "      <td>demolition</td>\n",
       "      <td>ÌÏT: 36.142163,-95.979189</td>\n",
       "      <td>@samajp32 really needs to tone it down some in...</td>\n",
       "      <td>0</td>\n",
       "    </tr>\n",
       "    <tr>\n",
       "      <th>6573</th>\n",
       "      <td>9406</td>\n",
       "      <td>survivors</td>\n",
       "      <td>SÌ£o Paulo, Brasil</td>\n",
       "      <td>Hiroshima survivors fight nuclear industry in ...</td>\n",
       "      <td>1</td>\n",
       "    </tr>\n",
       "    <tr>\n",
       "      <th>2587</th>\n",
       "      <td>3713</td>\n",
       "      <td>destroyed</td>\n",
       "      <td>buenos aires argentina</td>\n",
       "      <td>People donå«t want to hear the truth because t...</td>\n",
       "      <td>0</td>\n",
       "    </tr>\n",
       "    <tr>\n",
       "      <th>5821</th>\n",
       "      <td>8311</td>\n",
       "      <td>rubble</td>\n",
       "      <td>Phoenix Az</td>\n",
       "      <td>@JasonPope2 @JohnFugelsang again I didn't say ...</td>\n",
       "      <td>1</td>\n",
       "    </tr>\n",
       "  </tbody>\n",
       "</table>\n",
       "</div>"
      ],
      "text/plain": [
       "        id     keyword                   location  \\\n",
       "322    468  armageddon    Rotterdam, Zuid-Holland   \n",
       "2354  3389  demolition  ÌÏT: 36.142163,-95.979189   \n",
       "6573  9406   survivors         SÌ£o Paulo, Brasil   \n",
       "2587  3713   destroyed     buenos aires argentina   \n",
       "5821  8311      rubble                 Phoenix Az   \n",
       "\n",
       "                                                   text  target  \n",
       "322   @AberdeenFC @AberdeenFanPage \\n\\nGood luck to ...       0  \n",
       "2354  @samajp32 really needs to tone it down some in...       0  \n",
       "6573  Hiroshima survivors fight nuclear industry in ...       1  \n",
       "2587  People donå«t want to hear the truth because t...       0  \n",
       "5821  @JasonPope2 @JohnFugelsang again I didn't say ...       1  "
      ]
     },
     "execution_count": 374,
     "metadata": {},
     "output_type": "execute_result"
    }
   ],
   "source": [
    "train_data.sample(5)\n"
   ]
  },
  {
   "cell_type": "code",
   "execution_count": 375,
   "metadata": {
    "execution": {
     "iopub.execute_input": "2022-11-29T02:37:08.011431Z",
     "iopub.status.busy": "2022-11-29T02:37:08.010994Z",
     "iopub.status.idle": "2022-11-29T02:37:08.018725Z",
     "shell.execute_reply": "2022-11-29T02:37:08.017506Z",
     "shell.execute_reply.started": "2022-11-29T02:37:08.011395Z"
    }
   },
   "outputs": [
    {
     "data": {
      "text/plain": [
       "(7613, 5)"
      ]
     },
     "execution_count": 375,
     "metadata": {},
     "output_type": "execute_result"
    }
   ],
   "source": [
    "train_data.shape"
   ]
  },
  {
   "cell_type": "code",
   "execution_count": 376,
   "metadata": {
    "execution": {
     "iopub.execute_input": "2022-11-29T02:37:08.020959Z",
     "iopub.status.busy": "2022-11-29T02:37:08.020543Z",
     "iopub.status.idle": "2022-11-29T02:37:08.036830Z",
     "shell.execute_reply": "2022-11-29T02:37:08.035817Z",
     "shell.execute_reply.started": "2022-11-29T02:37:08.020926Z"
    }
   },
   "outputs": [
    {
     "name": "stdout",
     "output_type": "stream",
     "text": [
      "<class 'pandas.core.frame.DataFrame'>\n",
      "RangeIndex: 7613 entries, 0 to 7612\n",
      "Data columns (total 5 columns):\n",
      " #   Column    Non-Null Count  Dtype \n",
      "---  ------    --------------  ----- \n",
      " 0   id        7613 non-null   int64 \n",
      " 1   keyword   7552 non-null   object\n",
      " 2   location  5080 non-null   object\n",
      " 3   text      7613 non-null   object\n",
      " 4   target    7613 non-null   int64 \n",
      "dtypes: int64(2), object(3)\n",
      "memory usage: 297.5+ KB\n"
     ]
    }
   ],
   "source": [
    "train_data.info()"
   ]
  },
  {
   "cell_type": "markdown",
   "metadata": {},
   "source": [
    "**Examining a particular row that contains disaster text.**"
   ]
  },
  {
   "cell_type": "code",
   "execution_count": 377,
   "metadata": {
    "execution": {
     "iopub.execute_input": "2022-11-29T02:37:08.039990Z",
     "iopub.status.busy": "2022-11-29T02:37:08.039354Z",
     "iopub.status.idle": "2022-11-29T02:37:08.047611Z",
     "shell.execute_reply": "2022-11-29T02:37:08.046485Z",
     "shell.execute_reply.started": "2022-11-29T02:37:08.039952Z"
    }
   },
   "outputs": [
    {
     "data": {
      "text/plain": [
       "id                                                       4620\n",
       "keyword                                  emergency%20services\n",
       "location                          Vancouver, British Columbia\n",
       "text        Removing tsunami debris from the West Coast: K...\n",
       "target                                                      1\n",
       "Name: 3220, dtype: object"
      ]
     },
     "execution_count": 377,
     "metadata": {},
     "output_type": "execute_result"
    }
   ],
   "source": [
    "train_data.iloc[3220]"
   ]
  },
  {
   "cell_type": "code",
   "execution_count": 378,
   "metadata": {
    "execution": {
     "iopub.execute_input": "2022-11-29T02:37:08.049981Z",
     "iopub.status.busy": "2022-11-29T02:37:08.049579Z",
     "iopub.status.idle": "2022-11-29T02:37:08.060758Z",
     "shell.execute_reply": "2022-11-29T02:37:08.059718Z",
     "shell.execute_reply.started": "2022-11-29T02:37:08.049944Z"
    }
   },
   "outputs": [
    {
     "data": {
      "text/plain": [
       "'Removing tsunami debris from the West Coast: Karen Robinson Enviromental and Emergency services manager of the\\x89Û_ http://t.co/1MeEo3WJcO'"
      ]
     },
     "execution_count": 378,
     "metadata": {},
     "output_type": "execute_result"
    }
   ],
   "source": [
    "train_data.iloc[3220]['text']"
   ]
  },
  {
   "cell_type": "code",
   "execution_count": 379,
   "metadata": {
    "execution": {
     "iopub.execute_input": "2022-11-29T02:37:08.062645Z",
     "iopub.status.busy": "2022-11-29T02:37:08.062141Z",
     "iopub.status.idle": "2022-11-29T02:37:08.076922Z",
     "shell.execute_reply": "2022-11-29T02:37:08.075708Z",
     "shell.execute_reply.started": "2022-11-29T02:37:08.062580Z"
    }
   },
   "outputs": [
    {
     "data": {
      "text/html": [
       "<div>\n",
       "<style scoped>\n",
       "    .dataframe tbody tr th:only-of-type {\n",
       "        vertical-align: middle;\n",
       "    }\n",
       "\n",
       "    .dataframe tbody tr th {\n",
       "        vertical-align: top;\n",
       "    }\n",
       "\n",
       "    .dataframe thead th {\n",
       "        text-align: right;\n",
       "    }\n",
       "</style>\n",
       "<table border=\"1\" class=\"dataframe\">\n",
       "  <thead>\n",
       "    <tr style=\"text-align: right;\">\n",
       "      <th></th>\n",
       "      <th>id</th>\n",
       "      <th>keyword</th>\n",
       "      <th>location</th>\n",
       "      <th>text</th>\n",
       "    </tr>\n",
       "  </thead>\n",
       "  <tbody>\n",
       "    <tr>\n",
       "      <th>566</th>\n",
       "      <td>1849</td>\n",
       "      <td>burned</td>\n",
       "      <td>NaN</td>\n",
       "      <td>Corey White talking all dat shit but he got bu...</td>\n",
       "    </tr>\n",
       "    <tr>\n",
       "      <th>1564</th>\n",
       "      <td>5268</td>\n",
       "      <td>fear</td>\n",
       "      <td>USA</td>\n",
       "      <td>'Bear Markets Are Driven By Fear And Fear Has ...</td>\n",
       "    </tr>\n",
       "    <tr>\n",
       "      <th>2288</th>\n",
       "      <td>7646</td>\n",
       "      <td>panic</td>\n",
       "      <td>sad</td>\n",
       "      <td>Panic - Sublime with Rome</td>\n",
       "    </tr>\n",
       "    <tr>\n",
       "      <th>1140</th>\n",
       "      <td>3762</td>\n",
       "      <td>destruction</td>\n",
       "      <td>lake worth, Fl</td>\n",
       "      <td>New RAN report from the frontlines of human ri...</td>\n",
       "    </tr>\n",
       "    <tr>\n",
       "      <th>376</th>\n",
       "      <td>1205</td>\n",
       "      <td>blizzard</td>\n",
       "      <td>Ideally under a big tree</td>\n",
       "      <td>That horrible moment when u open up the dryer ...</td>\n",
       "    </tr>\n",
       "  </tbody>\n",
       "</table>\n",
       "</div>"
      ],
      "text/plain": [
       "        id      keyword                  location  \\\n",
       "566   1849       burned                       NaN   \n",
       "1564  5268         fear                       USA   \n",
       "2288  7646        panic                       sad   \n",
       "1140  3762  destruction            lake worth, Fl   \n",
       "376   1205     blizzard  Ideally under a big tree   \n",
       "\n",
       "                                                   text  \n",
       "566   Corey White talking all dat shit but he got bu...  \n",
       "1564  'Bear Markets Are Driven By Fear And Fear Has ...  \n",
       "2288                          Panic - Sublime with Rome  \n",
       "1140  New RAN report from the frontlines of human ri...  \n",
       "376   That horrible moment when u open up the dryer ...  "
      ]
     },
     "execution_count": 379,
     "metadata": {},
     "output_type": "execute_result"
    }
   ],
   "source": [
    "test_data.sample(5)"
   ]
  },
  {
   "cell_type": "code",
   "execution_count": 380,
   "metadata": {
    "execution": {
     "iopub.execute_input": "2022-11-29T02:37:08.084579Z",
     "iopub.status.busy": "2022-11-29T02:37:08.083705Z",
     "iopub.status.idle": "2022-11-29T02:37:08.094458Z",
     "shell.execute_reply": "2022-11-29T02:37:08.093321Z",
     "shell.execute_reply.started": "2022-11-29T02:37:08.084542Z"
    }
   },
   "outputs": [
    {
     "data": {
      "text/html": [
       "<div>\n",
       "<style scoped>\n",
       "    .dataframe tbody tr th:only-of-type {\n",
       "        vertical-align: middle;\n",
       "    }\n",
       "\n",
       "    .dataframe tbody tr th {\n",
       "        vertical-align: top;\n",
       "    }\n",
       "\n",
       "    .dataframe thead th {\n",
       "        text-align: right;\n",
       "    }\n",
       "</style>\n",
       "<table border=\"1\" class=\"dataframe\">\n",
       "  <thead>\n",
       "    <tr style=\"text-align: right;\">\n",
       "      <th></th>\n",
       "      <th>id</th>\n",
       "      <th>target</th>\n",
       "    </tr>\n",
       "  </thead>\n",
       "  <tbody>\n",
       "    <tr>\n",
       "      <th>94</th>\n",
       "      <td>319</td>\n",
       "      <td>0</td>\n",
       "    </tr>\n",
       "    <tr>\n",
       "      <th>1383</th>\n",
       "      <td>4559</td>\n",
       "      <td>0</td>\n",
       "    </tr>\n",
       "    <tr>\n",
       "      <th>2081</th>\n",
       "      <td>6993</td>\n",
       "      <td>0</td>\n",
       "    </tr>\n",
       "    <tr>\n",
       "      <th>3219</th>\n",
       "      <td>10699</td>\n",
       "      <td>0</td>\n",
       "    </tr>\n",
       "    <tr>\n",
       "      <th>2440</th>\n",
       "      <td>8153</td>\n",
       "      <td>0</td>\n",
       "    </tr>\n",
       "  </tbody>\n",
       "</table>\n",
       "</div>"
      ],
      "text/plain": [
       "         id  target\n",
       "94      319       0\n",
       "1383   4559       0\n",
       "2081   6993       0\n",
       "3219  10699       0\n",
       "2440   8153       0"
      ]
     },
     "execution_count": 380,
     "metadata": {},
     "output_type": "execute_result"
    }
   ],
   "source": [
    "sample_data.sample(5)"
   ]
  },
  {
   "cell_type": "code",
   "execution_count": 381,
   "metadata": {
    "execution": {
     "iopub.execute_input": "2022-11-29T02:37:08.096850Z",
     "iopub.status.busy": "2022-11-29T02:37:08.096123Z",
     "iopub.status.idle": "2022-11-29T02:37:08.110242Z",
     "shell.execute_reply": "2022-11-29T02:37:08.109063Z",
     "shell.execute_reply.started": "2022-11-29T02:37:08.096813Z"
    }
   },
   "outputs": [
    {
     "name": "stdout",
     "output_type": "stream",
     "text": [
      "<class 'pandas.core.frame.DataFrame'>\n",
      "RangeIndex: 7613 entries, 0 to 7612\n",
      "Data columns (total 5 columns):\n",
      " #   Column    Non-Null Count  Dtype \n",
      "---  ------    --------------  ----- \n",
      " 0   id        7613 non-null   int64 \n",
      " 1   keyword   7552 non-null   object\n",
      " 2   location  5080 non-null   object\n",
      " 3   text      7613 non-null   object\n",
      " 4   target    7613 non-null   int64 \n",
      "dtypes: int64(2), object(3)\n",
      "memory usage: 297.5+ KB\n"
     ]
    }
   ],
   "source": [
    "train_data.info()"
   ]
  },
  {
   "cell_type": "code",
   "execution_count": 382,
   "metadata": {
    "execution": {
     "iopub.execute_input": "2022-11-29T02:37:08.112388Z",
     "iopub.status.busy": "2022-11-29T02:37:08.111755Z",
     "iopub.status.idle": "2022-11-29T02:37:08.123332Z",
     "shell.execute_reply": "2022-11-29T02:37:08.122249Z",
     "shell.execute_reply.started": "2022-11-29T02:37:08.112352Z"
    }
   },
   "outputs": [
    {
     "data": {
      "text/plain": [
       "id             0\n",
       "keyword       61\n",
       "location    2533\n",
       "text           0\n",
       "target         0\n",
       "dtype: int64"
      ]
     },
     "execution_count": 382,
     "metadata": {},
     "output_type": "execute_result"
    }
   ],
   "source": [
    "train_data.isna().sum()"
   ]
  },
  {
   "cell_type": "code",
   "execution_count": 383,
   "metadata": {
    "execution": {
     "iopub.execute_input": "2022-11-29T02:37:08.125562Z",
     "iopub.status.busy": "2022-11-29T02:37:08.124925Z",
     "iopub.status.idle": "2022-11-29T02:37:08.135006Z",
     "shell.execute_reply": "2022-11-29T02:37:08.133873Z",
     "shell.execute_reply.started": "2022-11-29T02:37:08.125527Z"
    }
   },
   "outputs": [
    {
     "data": {
      "text/plain": [
       "id             0\n",
       "keyword       26\n",
       "location    1105\n",
       "text           0\n",
       "dtype: int64"
      ]
     },
     "execution_count": 383,
     "metadata": {},
     "output_type": "execute_result"
    }
   ],
   "source": [
    "test_data.isna().sum()"
   ]
  },
  {
   "cell_type": "code",
   "execution_count": 384,
   "metadata": {
    "execution": {
     "iopub.execute_input": "2022-11-29T02:37:08.137601Z",
     "iopub.status.busy": "2022-11-29T02:37:08.136786Z",
     "iopub.status.idle": "2022-11-29T02:37:08.371802Z",
     "shell.execute_reply": "2022-11-29T02:37:08.370745Z",
     "shell.execute_reply.started": "2022-11-29T02:37:08.137557Z"
    }
   },
   "outputs": [
    {
     "data": {
      "image/png": "[encoded data removed]",
      "text/plain": [
       "<Figure size 1080x216 with 1 Axes>"
      ]
     },
     "metadata": {},
     "output_type": "display_data"
    }
   ],
   "source": [
    "sns.set(style= \"whitegrid\")\n",
    "percentages_missing = train_data.isna().sum() * 100 / len(train_data)\n",
    "\n",
    "plt.figure(figsize=(15, 3))\n",
    "sns.barplot(x=list(percentages_missing), \n",
    "            y=list(percentages_missing.index), \n",
    "            palette='twilight').set(title='Missing Values', \n",
    "                                     xlabel='Percentage', \n",
    "                                     xlim=(0,50),\n",
    "                                     xticks=range(0,55, 5))\n",
    "plt.show();"
   ]
  },
  {
   "cell_type": "code",
   "execution_count": 385,
   "metadata": {
    "execution": {
     "iopub.execute_input": "2022-11-29T02:37:08.374336Z",
     "iopub.status.busy": "2022-11-29T02:37:08.373658Z",
     "iopub.status.idle": "2022-11-29T02:37:08.395482Z",
     "shell.execute_reply": "2022-11-29T02:37:08.393959Z",
     "shell.execute_reply.started": "2022-11-29T02:37:08.374297Z"
    }
   },
   "outputs": [
    {
     "data": {
      "text/html": [
       "<div>\n",
       "<style scoped>\n",
       "    .dataframe tbody tr th:only-of-type {\n",
       "        vertical-align: middle;\n",
       "    }\n",
       "\n",
       "    .dataframe tbody tr th {\n",
       "        vertical-align: top;\n",
       "    }\n",
       "\n",
       "    .dataframe thead th {\n",
       "        text-align: right;\n",
       "    }\n",
       "</style>\n",
       "<table border=\"1\" class=\"dataframe\">\n",
       "  <thead>\n",
       "    <tr style=\"text-align: right;\">\n",
       "      <th></th>\n",
       "      <th>keyword</th>\n",
       "      <th>text</th>\n",
       "      <th>target</th>\n",
       "    </tr>\n",
       "  </thead>\n",
       "  <tbody>\n",
       "    <tr>\n",
       "      <th>1853</th>\n",
       "      <td>crush</td>\n",
       "      <td>Ina Buted Girl Crush??</td>\n",
       "      <td>1</td>\n",
       "    </tr>\n",
       "    <tr>\n",
       "      <th>6489</th>\n",
       "      <td>sunk</td>\n",
       "      <td>The courtÛªs reputation and prestige has sunk...</td>\n",
       "      <td>0</td>\n",
       "    </tr>\n",
       "    <tr>\n",
       "      <th>5173</th>\n",
       "      <td>obliterate</td>\n",
       "      <td>Wondering if gold could gap up $50 on the jobs...</td>\n",
       "      <td>0</td>\n",
       "    </tr>\n",
       "    <tr>\n",
       "      <th>340</th>\n",
       "      <td>armageddon</td>\n",
       "      <td>Lee does comedy: ÛÏ@LeeJasper: Working class ...</td>\n",
       "      <td>0</td>\n",
       "    </tr>\n",
       "    <tr>\n",
       "      <th>1961</th>\n",
       "      <td>cyclone</td>\n",
       "      <td>@roughdeal1 ante hudhud cyclone Chandrababu Va...</td>\n",
       "      <td>1</td>\n",
       "    </tr>\n",
       "  </tbody>\n",
       "</table>\n",
       "</div>"
      ],
      "text/plain": [
       "         keyword                                               text  target\n",
       "1853       crush                             Ina Buted Girl Crush??       1\n",
       "6489        sunk  The courtÛªs reputation and prestige has sunk...       0\n",
       "5173  obliterate  Wondering if gold could gap up $50 on the jobs...       0\n",
       "340   armageddon  Lee does comedy: ÛÏ@LeeJasper: Working class ...       0\n",
       "1961     cyclone  @roughdeal1 ante hudhud cyclone Chandrababu Va...       1"
      ]
     },
     "execution_count": 385,
     "metadata": {},
     "output_type": "execute_result"
    }
   ],
   "source": [
    "#Removing ID and location columns from train and test data \n",
    "train_data = train_data.drop(labels=['id','location'],axis=1)\n",
    "test_data = test_data.drop(labels=['location'],axis=1)\n",
    "train_data.sample(5)"
   ]
  },
  {
   "cell_type": "code",
   "execution_count": 386,
   "metadata": {
    "execution": {
     "iopub.execute_input": "2022-11-29T02:37:08.398580Z",
     "iopub.status.busy": "2022-11-29T02:37:08.397619Z",
     "iopub.status.idle": "2022-11-29T02:37:08.408068Z",
     "shell.execute_reply": "2022-11-29T02:37:08.406809Z",
     "shell.execute_reply.started": "2022-11-29T02:37:08.398543Z"
    }
   },
   "outputs": [
    {
     "data": {
      "text/plain": [
       "110"
      ]
     },
     "execution_count": 386,
     "metadata": {},
     "output_type": "execute_result"
    }
   ],
   "source": [
    " train_data['text'].duplicated().sum()"
   ]
  },
  {
   "cell_type": "code",
   "execution_count": 387,
   "metadata": {
    "execution": {
     "iopub.execute_input": "2022-11-29T02:37:08.410568Z",
     "iopub.status.busy": "2022-11-29T02:37:08.409933Z",
     "iopub.status.idle": "2022-11-29T02:37:08.422473Z",
     "shell.execute_reply": "2022-11-29T02:37:08.421543Z",
     "shell.execute_reply.started": "2022-11-29T02:37:08.410529Z"
    }
   },
   "outputs": [],
   "source": [
    "# Removing duplicated texts from column\n",
    "train_data = train_data.drop_duplicates(subset=['text'],keep=False)"
   ]
  },
  {
   "cell_type": "code",
   "execution_count": 388,
   "metadata": {
    "execution": {
     "iopub.execute_input": "2022-11-29T02:37:08.424462Z",
     "iopub.status.busy": "2022-11-29T02:37:08.423895Z",
     "iopub.status.idle": "2022-11-29T02:37:08.433437Z",
     "shell.execute_reply": "2022-11-29T02:37:08.432481Z",
     "shell.execute_reply.started": "2022-11-29T02:37:08.424428Z"
    }
   },
   "outputs": [
    {
     "data": {
      "text/plain": [
       "target\n",
       "0    4284\n",
       "1    3150\n",
       "dtype: int64"
      ]
     },
     "execution_count": 388,
     "metadata": {},
     "output_type": "execute_result"
    }
   ],
   "source": [
    "train_data.value_counts('target')"
   ]
  },
  {
   "cell_type": "code",
   "execution_count": 389,
   "metadata": {
    "execution": {
     "iopub.execute_input": "2022-11-29T02:37:08.435326Z",
     "iopub.status.busy": "2022-11-29T02:37:08.434745Z",
     "iopub.status.idle": "2022-11-29T02:37:08.633016Z",
     "shell.execute_reply": "2022-11-29T02:37:08.632404Z",
     "shell.execute_reply.started": "2022-11-29T02:37:08.435291Z"
    }
   },
   "outputs": [
    {
     "data": {
      "text/plain": [
       "<AxesSubplot:xlabel='target', ylabel='count'>"
      ]
     },
     "execution_count": 389,
     "metadata": {},
     "output_type": "execute_result"
    },
    {
     "data": {
      "image/png": "[encoded data removed]",
      "text/plain": [
       "<Figure size 432x288 with 1 Axes>"
      ]
     },
     "metadata": {},
     "output_type": "display_data"
    }
   ],
   "source": [
    "sns.set_theme(style=\"whitegrid\")\n",
    "sns.countplot(data= train_data, x ='target', palette = 'tab10')"
   ]
  },
  {
   "cell_type": "code",
   "execution_count": 390,
   "metadata": {
    "execution": {
     "iopub.execute_input": "2022-11-29T02:37:08.634778Z",
     "iopub.status.busy": "2022-11-29T02:37:08.634260Z",
     "iopub.status.idle": "2022-11-29T02:37:08.642840Z",
     "shell.execute_reply": "2022-11-29T02:37:08.641915Z",
     "shell.execute_reply.started": "2022-11-29T02:37:08.634743Z"
    }
   },
   "outputs": [],
   "source": [
    "# create two dataframes, one for real emergencies and one for fake emergencies\n",
    "fake_DT = train_data[train_data['target']==0]\n",
    "real_DT = train_data[train_data['target']==1]"
   ]
  },
  {
   "cell_type": "code",
   "execution_count": 391,
   "metadata": {
    "execution": {
     "iopub.execute_input": "2022-11-29T02:37:08.644717Z",
     "iopub.status.busy": "2022-11-29T02:37:08.644355Z",
     "iopub.status.idle": "2022-11-29T02:37:08.656013Z",
     "shell.execute_reply": "2022-11-29T02:37:08.654830Z",
     "shell.execute_reply.started": "2022-11-29T02:37:08.644679Z"
    }
   },
   "outputs": [
    {
     "name": "stdout",
     "output_type": "stream",
     "text": [
      "10 Common Keywords for FAKE DISASTER Tweets\n"
     ]
    },
    {
     "data": {
      "text/plain": [
       "body%20bags    40\n",
       "harm           37\n",
       "armageddon     37\n",
       "wrecked        36\n",
       "ruin           36\n",
       "deluge         36\n",
       "explode        35\n",
       "fear           35\n",
       "twister        35\n",
       "siren          35\n",
       "Name: keyword, dtype: int64"
      ]
     },
     "execution_count": 391,
     "metadata": {},
     "output_type": "execute_result"
    }
   ],
   "source": [
    "print(\"10 Common Keywords for FAKE DISASTER Tweets\")\n",
    "fake_DT['keyword'].value_counts()[:10]"
   ]
  },
  {
   "cell_type": "code",
   "execution_count": 392,
   "metadata": {
    "execution": {
     "iopub.execute_input": "2022-11-29T02:37:08.658509Z",
     "iopub.status.busy": "2022-11-29T02:37:08.657781Z",
     "iopub.status.idle": "2022-11-29T02:37:08.668861Z",
     "shell.execute_reply": "2022-11-29T02:37:08.667604Z",
     "shell.execute_reply.started": "2022-11-29T02:37:08.658471Z"
    }
   },
   "outputs": [
    {
     "name": "stdout",
     "output_type": "stream",
     "text": [
      "10 Common Keywords for REAL DISASTER Tweets\n"
     ]
    },
    {
     "data": {
      "text/plain": [
       "debris                37\n",
       "oil%20spill           37\n",
       "outbreak              37\n",
       "wreckage              36\n",
       "typhoon               35\n",
       "evacuated             31\n",
       "derailment            31\n",
       "nuclear%20disaster    31\n",
       "razed                 31\n",
       "suicide%20bomber      30\n",
       "Name: keyword, dtype: int64"
      ]
     },
     "execution_count": 392,
     "metadata": {},
     "output_type": "execute_result"
    }
   ],
   "source": [
    "print(\"10 Common Keywords for REAL DISASTER Tweets\")\n",
    "real_DT['keyword'].value_counts()[:10]"
   ]
  },
  {
   "cell_type": "code",
   "execution_count": 393,
   "metadata": {
    "execution": {
     "iopub.execute_input": "2022-11-29T02:37:08.671152Z",
     "iopub.status.busy": "2022-11-29T02:37:08.670489Z",
     "iopub.status.idle": "2022-11-29T02:37:08.996037Z",
     "shell.execute_reply": "2022-11-29T02:37:08.995113Z",
     "shell.execute_reply.started": "2022-11-29T02:37:08.671117Z"
    }
   },
   "outputs": [
    {
     "data": {
      "image/png": "[encoded data removed]",
      "text/plain": [
       "<Figure size 720x720 with 1 Axes>"
      ]
     },
     "metadata": {},
     "output_type": "display_data"
    }
   ],
   "source": [
    "#plot distribution of top 10 keywords\n",
    "plt.figure(figsize=[10, 10])\n",
    "\n",
    "sns.countplot(y='keyword', \n",
    "              data=train_data.replace(0,'Real Disaster').replace(1,'Fake Disaster'),\n",
    "              order=train_data['keyword'].value_counts()[:10].index,\n",
    "              hue='target',palette=['blue', 'red']).set(title='Distribution of Top 10 Keywords', ylabel='Keywords')\n",
    "plt.xticks(rotation=90)\n",
    "plt.legend(loc='upper right')\n",
    "plt.show();"
   ]
  },
  {
   "cell_type": "markdown",
   "metadata": {},
   "source": [
    "# Text Preprocessing\n",
    "\n",
    "We notice a lot of URLs, HTML, @s, %20, and hashtags (#) since the data is text from a social media website. To deal with more concrete information that relates directly to the text, we will delete the URLS, HTMLS, and @ mentions. The #s and %20 will remain since they contain crucial information. On the Twitter website, the%20 seem to be the keywords, and hashtags are frequently used to draw attention to a word. Because of this, we will delete the symbols (%20 and #), but leave the text that go with them in tact. For the purpose of concentrating solely on the words, we will also eliminate punctuation.However, we will count the number of punctuation marks before eliminating the symbols because this information may be useful when we train the model.\n",
    "\n",
    "\n",
    "The royn5618 helper function, which can be found at https://www.kaggle.com/code/nabanitaroy/eda-and-tf-idf-prediction-model-with-80-accuracy, served as an inspiration for the following helper functions. (Remove urls, htmls, @, and # signs, count, and punctuation)\n",
    "We will apply the following to our dataframe and text column:\n",
    "\n",
    "* Delete ‘location column’\n",
    "* Remove URLs, HTMLs, and tags\n",
    "* Count the number of punctuations present and delete them\n",
    "* Lowercase all words\n",
    "* Lemmatize words\n",
    "* Declare if numbers appear and delete them\n",
    "* Tokenize text\n",
    "* Remove Digits"
   ]
  },
  {
   "cell_type": "code",
   "execution_count": 394,
   "metadata": {
    "execution": {
     "iopub.execute_input": "2022-11-29T02:37:08.998288Z",
     "iopub.status.busy": "2022-11-29T02:37:08.997613Z",
     "iopub.status.idle": "2022-11-29T02:37:09.006187Z",
     "shell.execute_reply": "2022-11-29T02:37:09.005151Z",
     "shell.execute_reply.started": "2022-11-29T02:37:08.998247Z"
    }
   },
   "outputs": [],
   "source": [
    "# remove digits from text\n",
    "def remove_digits(text):\n",
    "    return re.sub(r'[0-9]+', '', text)\n",
    "# remove urls\n",
    "def remove_urls(text):\n",
    "    url_pattern = r'(www.|http[s]?://)(?:[a-zA-Z]|[0-9]|[$-_@.&+]|[!*\\(\\),]|(?:%[0-9a-fA-F][0-9a-fA-F]))+'\n",
    "    return re.sub(url_pattern, '', text)\n",
    "\n",
    "# remove hmtmls\n",
    "def remove_html(text):\n",
    "    html_entities = r'<.*?>|&([a-z0-9]+|#[0-9]{1,6}|#x[0-9a-f]{1,6});'\n",
    "    return re.sub(html_entities, '', text)\n",
    "\n",
    "# remove @ and #\n",
    "def remove_tags(text):\n",
    "    tag_pattern = r'@([a-z0-9]+)|#'\n",
    "    return re.sub(tag_pattern, '', text)\n",
    "\n",
    "# count punctuation\n",
    "def count_punctuation(text):\n",
    "    getpunctuation = re.findall('[.?\"\\'`\\,\\-\\!:;\\(\\)\\[\\]\\\\/“”]+?', text)\n",
    "    return len(getpunctuation)\n",
    "\n",
    "# put all words in lowercase\n",
    "def lower_case(text):\n",
    "    return text.lower()"
   ]
  },
  {
   "cell_type": "code",
   "execution_count": 395,
   "metadata": {
    "execution": {
     "iopub.execute_input": "2022-11-29T02:37:09.008211Z",
     "iopub.status.busy": "2022-11-29T02:37:09.007804Z",
     "iopub.status.idle": "2022-11-29T02:37:09.023369Z",
     "shell.execute_reply": "2022-11-29T02:37:09.022436Z",
     "shell.execute_reply.started": "2022-11-29T02:37:09.008173Z"
    }
   },
   "outputs": [],
   "source": [
    "STOPWORDS = set(stopwords.words('english'))\n",
    "# clean and lemmatize words \n",
    "def preprocess_text(x):\n",
    "    cleaned_text = re.sub(r'[^a-zA-Z\\d\\s]+', '', x)\n",
    "    word_list = []\n",
    "    for each_word in cleaned_text.split(' '):\n",
    "        word_list.append(contractions.fix(each_word).lower())\n",
    "    word_list = [\n",
    "        WordNetLemmatizer().lemmatize(each_word.strip()) for each_word in word_list\n",
    "        if each_word not in STOPWORDS and each_word.strip() != ''\n",
    "    ]\n",
    "    return \" \".join(word_list)"
   ]
  },
  {
   "cell_type": "code",
   "execution_count": 396,
   "metadata": {
    "execution": {
     "iopub.execute_input": "2022-11-29T02:37:09.025130Z",
     "iopub.status.busy": "2022-11-29T02:37:09.024640Z",
     "iopub.status.idle": "2022-11-29T02:37:09.864412Z",
     "shell.execute_reply": "2022-11-29T02:37:09.863431Z",
     "shell.execute_reply.started": "2022-11-29T02:37:09.025016Z"
    }
   },
   "outputs": [],
   "source": [
    "# apply to training data\n",
    "functions = [remove_urls, remove_html, remove_tags, count_punctuation, lower_case, preprocess_text, remove_digits]\n",
    "for func in functions: \n",
    "    if func == count_punctuation:\n",
    "        train_data['punctuation_count'] = train_data['text'].apply(func)\n",
    "    else:\n",
    "        train_data['text'] = train_data['text'].apply(func) "
   ]
  },
  {
   "cell_type": "code",
   "execution_count": 397,
   "metadata": {
    "execution": {
     "iopub.execute_input": "2022-11-29T02:37:09.866153Z",
     "iopub.status.busy": "2022-11-29T02:37:09.865783Z",
     "iopub.status.idle": "2022-11-29T02:37:10.240838Z",
     "shell.execute_reply": "2022-11-29T02:37:10.239818Z",
     "shell.execute_reply.started": "2022-11-29T02:37:09.866115Z"
    }
   },
   "outputs": [],
   "source": [
    "# apply to test data\n",
    "functions = [remove_urls, remove_html, remove_tags, count_punctuation, lower_case, preprocess_text, remove_digits]\n",
    "for func in functions: \n",
    "    if func == count_punctuation:\n",
    "        test_data['punctuation_count'] = test_data['text'].apply(func)\n",
    "    else:\n",
    "        test_data['text'] = test_data['text'].apply(func) "
   ]
  },
  {
   "cell_type": "code",
   "execution_count": 398,
   "metadata": {
    "execution": {
     "iopub.execute_input": "2022-11-29T02:37:10.248513Z",
     "iopub.status.busy": "2022-11-29T02:37:10.248156Z",
     "iopub.status.idle": "2022-11-29T02:37:10.261085Z",
     "shell.execute_reply": "2022-11-29T02:37:10.259943Z",
     "shell.execute_reply.started": "2022-11-29T02:37:10.248481Z"
    }
   },
   "outputs": [
    {
     "data": {
      "text/html": [
       "<div>\n",
       "<style scoped>\n",
       "    .dataframe tbody tr th:only-of-type {\n",
       "        vertical-align: middle;\n",
       "    }\n",
       "\n",
       "    .dataframe tbody tr th {\n",
       "        vertical-align: top;\n",
       "    }\n",
       "\n",
       "    .dataframe thead th {\n",
       "        text-align: right;\n",
       "    }\n",
       "</style>\n",
       "<table border=\"1\" class=\"dataframe\">\n",
       "  <thead>\n",
       "    <tr style=\"text-align: right;\">\n",
       "      <th></th>\n",
       "      <th>keyword</th>\n",
       "      <th>text</th>\n",
       "      <th>target</th>\n",
       "      <th>punctuation_count</th>\n",
       "    </tr>\n",
       "  </thead>\n",
       "  <tbody>\n",
       "    <tr>\n",
       "      <th>1566</th>\n",
       "      <td>cliff%20fall</td>\n",
       "      <td>regress slip fall cliff</td>\n",
       "      <td>0</td>\n",
       "      <td>0</td>\n",
       "    </tr>\n",
       "    <tr>\n",
       "      <th>6191</th>\n",
       "      <td>sirens</td>\n",
       "      <td>added video youtube playlist cher lloyd siren</td>\n",
       "      <td>0</td>\n",
       "      <td>1</td>\n",
       "    </tr>\n",
       "    <tr>\n",
       "      <th>7073</th>\n",
       "      <td>upheaval</td>\n",
       "      <td>ancient mayan tablet found jungle temple</td>\n",
       "      <td>1</td>\n",
       "      <td>0</td>\n",
       "    </tr>\n",
       "    <tr>\n",
       "      <th>4208</th>\n",
       "      <td>hazard</td>\n",
       "      <td>londonfire hi email people use report sthing t...</td>\n",
       "      <td>1</td>\n",
       "      <td>5</td>\n",
       "    </tr>\n",
       "    <tr>\n",
       "      <th>3553</th>\n",
       "      <td>famine</td>\n",
       "      <td>building muscle feast famine feeding diet plan...</td>\n",
       "      <td>0</td>\n",
       "      <td>0</td>\n",
       "    </tr>\n",
       "  </tbody>\n",
       "</table>\n",
       "</div>"
      ],
      "text/plain": [
       "           keyword                                               text  target  \\\n",
       "1566  cliff%20fall                            regress slip fall cliff       0   \n",
       "6191        sirens      added video youtube playlist cher lloyd siren       0   \n",
       "7073      upheaval           ancient mayan tablet found jungle temple       1   \n",
       "4208        hazard  londonfire hi email people use report sthing t...       1   \n",
       "3553        famine  building muscle feast famine feeding diet plan...       0   \n",
       "\n",
       "      punctuation_count  \n",
       "1566                  0  \n",
       "6191                  1  \n",
       "7073                  0  \n",
       "4208                  5  \n",
       "3553                  0  "
      ]
     },
     "execution_count": 398,
     "metadata": {},
     "output_type": "execute_result"
    }
   ],
   "source": [
    "train_data.sample(5)\n"
   ]
  },
  {
   "cell_type": "code",
   "execution_count": 399,
   "metadata": {
    "execution": {
     "iopub.execute_input": "2022-11-29T02:37:10.263239Z",
     "iopub.status.busy": "2022-11-29T02:37:10.262767Z",
     "iopub.status.idle": "2022-11-29T02:37:10.271584Z",
     "shell.execute_reply": "2022-11-29T02:37:10.270581Z",
     "shell.execute_reply.started": "2022-11-29T02:37:10.263193Z"
    }
   },
   "outputs": [],
   "source": [
    "cleaned_text_train = train_data['text']\n",
    "cleaned_text_test = test_data['text']"
   ]
  },
  {
   "cell_type": "markdown",
   "metadata": {},
   "source": [
    " # Model Structure and Outcomes \n",
    "\n",
    "We have ready-to-use training data for the models. Before training, the data will first be divided into training and validation sets.\n",
    "\n",
    "We choose to use the LSTM and GRU RNN models for our project. Both models are quite straightforward to demonstrate how an RNN model's training need not be difficult. In actuality, LSTM and GRU models are constructed similarly to other neural networks, particularly when using Tensorflow Keras frameworks.\n",
    "\n",
    "Long-Short Term Memory (LSTM) models are a subset of Recurrent Neural Networks (RNNs) that have particular data-processing gates. Here and/or here are excellent starting points for learning more about the LSTM mechanism.\n",
    "\n",
    "Another excellent RNN model to test with text data is GRU --> Gated Recurrent Unit (GRU). In general, GRUs outperform LSTM models and can be quicker. More details regarding GRU models may be found here and/or here.\n",
    "\n",
    "We'll take the next steps:\n",
    "\n",
    "\n",
    "* Splitting the dataset into train, validation data\n",
    "* Tokeninzing the train,validation and test data\n",
    "* Padding the tokens\n",
    "* Creating two different models LSTM and GRU \n",
    "* Run and submit predictions"
   ]
  },
  {
   "cell_type": "code",
   "execution_count": 400,
   "metadata": {
    "execution": {
     "iopub.execute_input": "2022-11-29T02:37:10.273485Z",
     "iopub.status.busy": "2022-11-29T02:37:10.273116Z",
     "iopub.status.idle": "2022-11-29T02:37:10.290714Z",
     "shell.execute_reply": "2022-11-29T02:37:10.289617Z",
     "shell.execute_reply.started": "2022-11-29T02:37:10.273451Z"
    }
   },
   "outputs": [
    {
     "name": "stdout",
     "output_type": "stream",
     "text": [
      "5203 5203\n",
      "2231 2231\n"
     ]
    }
   ],
   "source": [
    "X_train,X_val,y_train,y_val=train_test_split(cleaned_text_train,train_data['target'],test_size=0.3,random_state=40)\n",
    "print(len(X_train),len(y_train))\n",
    "print(len(X_val),len(y_val))"
   ]
  },
  {
   "cell_type": "code",
   "execution_count": 401,
   "metadata": {
    "execution": {
     "iopub.execute_input": "2022-11-29T02:37:10.292705Z",
     "iopub.status.busy": "2022-11-29T02:37:10.292357Z",
     "iopub.status.idle": "2022-11-29T02:37:10.538634Z",
     "shell.execute_reply": "2022-11-29T02:37:10.537699Z",
     "shell.execute_reply.started": "2022-11-29T02:37:10.292671Z"
    }
   },
   "outputs": [],
   "source": [
    "max_len=20\n",
    "\n",
    "from tensorflow.keras.preprocessing.text import Tokenizer\n",
    "from tensorflow.keras.preprocessing.sequence import pad_sequences\n",
    "tokenizer=Tokenizer(oov_token='<OOV>')\n",
    "tokenizer.fit_on_texts(X_train)\n",
    "X_train=tokenizer.texts_to_sequences(X_train)\n",
    "X_val=tokenizer.texts_to_sequences(X_val)\n",
    "X_test=tokenizer.texts_to_sequences(cleaned_text_test)\n",
    "X_train=pad_sequences(X_train,maxlen=max_len,padding='post')\n",
    "X_val=pad_sequences(X_val,maxlen=max_len,padding='post')\n",
    "X_test=pad_sequences(X_test,maxlen=max_len,padding='post')"
   ]
  },
  {
   "cell_type": "code",
   "execution_count": 402,
   "metadata": {
    "execution": {
     "iopub.execute_input": "2022-11-29T02:37:10.540033Z",
     "iopub.status.busy": "2022-11-29T02:37:10.539711Z",
     "iopub.status.idle": "2022-11-29T02:37:10.546767Z",
     "shell.execute_reply": "2022-11-29T02:37:10.545647Z",
     "shell.execute_reply.started": "2022-11-29T02:37:10.539998Z"
    }
   },
   "outputs": [
    {
     "name": "stdout",
     "output_type": "stream",
     "text": [
      "Vocab Size 11722\n"
     ]
    }
   ],
   "source": [
    "vocab=len(tokenizer.word_index)+1\n",
    "print(\"Vocab Size\",vocab)"
   ]
  },
  {
   "cell_type": "code",
   "execution_count": 403,
   "metadata": {
    "execution": {
     "iopub.execute_input": "2022-11-29T02:37:10.549582Z",
     "iopub.status.busy": "2022-11-29T02:37:10.548789Z",
     "iopub.status.idle": "2022-11-29T02:37:10.557523Z",
     "shell.execute_reply": "2022-11-29T02:37:10.556430Z",
     "shell.execute_reply.started": "2022-11-29T02:37:10.549546Z"
    }
   },
   "outputs": [
    {
     "data": {
      "text/plain": [
       "array([[1., 0.],\n",
       "       [1., 0.],\n",
       "       [0., 1.],\n",
       "       ...,\n",
       "       [1., 0.],\n",
       "       [1., 0.],\n",
       "       [0., 1.]], dtype=float32)"
      ]
     },
     "execution_count": 403,
     "metadata": {},
     "output_type": "execute_result"
    }
   ],
   "source": [
    "tf.keras.utils.to_categorical(y_train, num_classes=2)"
   ]
  },
  {
   "cell_type": "code",
   "execution_count": 404,
   "metadata": {
    "execution": {
     "iopub.execute_input": "2022-11-29T02:37:10.559922Z",
     "iopub.status.busy": "2022-11-29T02:37:10.559589Z",
     "iopub.status.idle": "2022-11-29T02:37:10.569441Z",
     "shell.execute_reply": "2022-11-29T02:37:10.568300Z",
     "shell.execute_reply.started": "2022-11-29T02:37:10.559889Z"
    }
   },
   "outputs": [
    {
     "data": {
      "text/plain": [
       "array([[0., 1.],\n",
       "       [0., 1.],\n",
       "       [1., 0.],\n",
       "       ...,\n",
       "       [0., 1.],\n",
       "       [1., 0.],\n",
       "       [1., 0.]], dtype=float32)"
      ]
     },
     "execution_count": 404,
     "metadata": {},
     "output_type": "execute_result"
    }
   ],
   "source": [
    "tf.keras.utils.to_categorical(y_val, num_classes= 2)"
   ]
  },
  {
   "cell_type": "code",
   "execution_count": 405,
   "metadata": {
    "execution": {
     "iopub.execute_input": "2022-11-29T02:37:10.571662Z",
     "iopub.status.busy": "2022-11-29T02:37:10.571244Z",
     "iopub.status.idle": "2022-11-29T02:37:10.579918Z",
     "shell.execute_reply": "2022-11-29T02:37:10.578714Z",
     "shell.execute_reply.started": "2022-11-29T02:37:10.571629Z"
    }
   },
   "outputs": [
    {
     "name": "stdout",
     "output_type": "stream",
     "text": [
      "(5203,)\n",
      "(2231,)\n"
     ]
    }
   ],
   "source": [
    "print(y_train.shape)\n",
    "print(y_val.shape)"
   ]
  },
  {
   "cell_type": "code",
   "execution_count": 406,
   "metadata": {
    "execution": {
     "iopub.execute_input": "2022-11-29T02:37:10.582008Z",
     "iopub.status.busy": "2022-11-29T02:37:10.581642Z",
     "iopub.status.idle": "2022-11-29T02:37:10.806066Z",
     "shell.execute_reply": "2022-11-29T02:37:10.805063Z",
     "shell.execute_reply.started": "2022-11-29T02:37:10.581973Z"
    }
   },
   "outputs": [
    {
     "name": "stdout",
     "output_type": "stream",
     "text": [
      "Model: \"sequential\"\n",
      "_________________________________________________________________\n",
      "Layer (type)                 Output Shape              Param #   \n",
      "=================================================================\n",
      "embedding (Embedding)        (None, 20, 100)           1172200   \n",
      "_________________________________________________________________\n",
      "lstm (LSTM)                  (None, 300)               481200    \n",
      "_________________________________________________________________\n",
      "dense (Dense)                (None, 64)                19264     \n",
      "_________________________________________________________________\n",
      "dense_1 (Dense)              (None, 1)                 65        \n",
      "=================================================================\n",
      "Total params: 1,672,729\n",
      "Trainable params: 1,672,729\n",
      "Non-trainable params: 0\n",
      "_________________________________________________________________\n"
     ]
    }
   ],
   "source": [
    "import tensorflow.keras.backend as K\n",
    "K.clear_session()\n",
    "\n",
    "model=Sequential()\n",
    "model.add(Embedding(vocab,100,input_length=max_len,trainable=True,mask_zero=True))\n",
    "model.add(LSTM(300,dropout=0.1,recurrent_dropout=0.2))\n",
    "model.add(Dense(64,activation='relu'))\n",
    "model.add(Dense(1,activation='sigmoid'))\n",
    "model.summary()"
   ]
  },
  {
   "cell_type": "code",
   "execution_count": 407,
   "metadata": {
    "execution": {
     "iopub.execute_input": "2022-11-29T02:37:10.808269Z",
     "iopub.status.busy": "2022-11-29T02:37:10.807548Z",
     "iopub.status.idle": "2022-11-29T02:37:10.819523Z",
     "shell.execute_reply": "2022-11-29T02:37:10.818523Z",
     "shell.execute_reply.started": "2022-11-29T02:37:10.808229Z"
    }
   },
   "outputs": [],
   "source": [
    "model.compile(optimizer='adam',loss='binary_crossentropy',metrics=['acc'])"
   ]
  },
  {
   "cell_type": "code",
   "execution_count": 408,
   "metadata": {
    "execution": {
     "iopub.execute_input": "2022-11-29T02:37:10.822018Z",
     "iopub.status.busy": "2022-11-29T02:37:10.821226Z",
     "iopub.status.idle": "2022-11-29T02:37:50.662250Z",
     "shell.execute_reply": "2022-11-29T02:37:50.661217Z",
     "shell.execute_reply.started": "2022-11-29T02:37:10.821981Z"
    }
   },
   "outputs": [
    {
     "name": "stdout",
     "output_type": "stream",
     "text": [
      "Epoch 1/50\n",
      "5/5 [==============================] - 3s 222ms/step - loss: 0.6904 - acc: 0.5656 - val_loss: 0.6810 - val_acc: 0.5827\n",
      "Epoch 2/50\n",
      "5/5 [==============================] - 1s 142ms/step - loss: 0.6717 - acc: 0.5739 - val_loss: 0.6362 - val_acc: 0.6226\n",
      "Epoch 3/50\n",
      "5/5 [==============================] - 1s 306ms/step - loss: 0.5938 - acc: 0.7361 - val_loss: 0.5608 - val_acc: 0.7947\n",
      "Epoch 4/50\n",
      "5/5 [==============================] - 1s 140ms/step - loss: 0.4509 - acc: 0.8680 - val_loss: 0.5716 - val_acc: 0.7548\n",
      "Epoch 5/50\n",
      "5/5 [==============================] - 1s 137ms/step - loss: 0.3066 - acc: 0.8972 - val_loss: 0.5274 - val_acc: 0.7889\n",
      "Epoch 6/50\n",
      "5/5 [==============================] - 1s 136ms/step - loss: 0.2198 - acc: 0.9239 - val_loss: 0.5863 - val_acc: 0.7893\n",
      "Epoch 7/50\n",
      "5/5 [==============================] - 1s 137ms/step - loss: 0.1637 - acc: 0.9435 - val_loss: 0.7892 - val_acc: 0.7710\n",
      "Epoch 8/50\n",
      "5/5 [==============================] - 1s 145ms/step - loss: 0.1228 - acc: 0.9585 - val_loss: 0.7829 - val_acc: 0.7719\n",
      "Epoch 9/50\n",
      "5/5 [==============================] - 1s 139ms/step - loss: 0.0978 - acc: 0.9671 - val_loss: 0.7275 - val_acc: 0.7723\n",
      "Epoch 10/50\n",
      "5/5 [==============================] - 1s 141ms/step - loss: 0.0837 - acc: 0.9727 - val_loss: 1.0094 - val_acc: 0.7638\n",
      "Epoch 11/50\n",
      "5/5 [==============================] - 1s 136ms/step - loss: 0.0735 - acc: 0.9754 - val_loss: 0.9625 - val_acc: 0.7620\n",
      "Epoch 12/50\n",
      "5/5 [==============================] - 1s 136ms/step - loss: 0.0626 - acc: 0.9779 - val_loss: 0.9278 - val_acc: 0.7710\n",
      "Epoch 13/50\n",
      "5/5 [==============================] - 1s 135ms/step - loss: 0.0557 - acc: 0.9819 - val_loss: 1.0371 - val_acc: 0.7714\n",
      "Epoch 14/50\n",
      "5/5 [==============================] - 1s 143ms/step - loss: 0.0514 - acc: 0.9835 - val_loss: 1.0068 - val_acc: 0.7714\n",
      "Epoch 15/50\n",
      "5/5 [==============================] - 1s 146ms/step - loss: 0.0437 - acc: 0.9860 - val_loss: 1.0893 - val_acc: 0.7660\n",
      "Epoch 16/50\n",
      "5/5 [==============================] - 1s 144ms/step - loss: 0.0429 - acc: 0.9846 - val_loss: 1.1798 - val_acc: 0.7629\n",
      "Epoch 17/50\n",
      "5/5 [==============================] - 1s 167ms/step - loss: 0.0420 - acc: 0.9854 - val_loss: 1.0177 - val_acc: 0.7642\n",
      "Epoch 18/50\n",
      "5/5 [==============================] - 1s 174ms/step - loss: 0.0426 - acc: 0.9850 - val_loss: 1.2056 - val_acc: 0.7633\n",
      "Epoch 19/50\n",
      "5/5 [==============================] - 1s 143ms/step - loss: 0.0405 - acc: 0.9846 - val_loss: 1.2991 - val_acc: 0.7548\n",
      "Epoch 20/50\n",
      "5/5 [==============================] - 1s 137ms/step - loss: 0.0398 - acc: 0.9854 - val_loss: 1.0864 - val_acc: 0.7589\n",
      "Epoch 21/50\n",
      "5/5 [==============================] - 1s 140ms/step - loss: 0.0377 - acc: 0.9871 - val_loss: 1.1653 - val_acc: 0.7633\n",
      "Epoch 22/50\n",
      "5/5 [==============================] - 1s 139ms/step - loss: 0.0355 - acc: 0.9864 - val_loss: 1.1565 - val_acc: 0.7629\n",
      "Epoch 23/50\n",
      "5/5 [==============================] - 1s 136ms/step - loss: 0.0318 - acc: 0.9873 - val_loss: 1.1689 - val_acc: 0.7615\n",
      "Epoch 24/50\n",
      "5/5 [==============================] - 1s 138ms/step - loss: 0.0312 - acc: 0.9865 - val_loss: 1.3956 - val_acc: 0.7593\n",
      "Epoch 25/50\n",
      "5/5 [==============================] - 1s 144ms/step - loss: 0.0310 - acc: 0.9881 - val_loss: 1.3369 - val_acc: 0.7548\n",
      "Epoch 26/50\n",
      "5/5 [==============================] - 1s 140ms/step - loss: 0.0307 - acc: 0.9875 - val_loss: 1.3089 - val_acc: 0.7557\n",
      "Epoch 27/50\n",
      "5/5 [==============================] - 1s 136ms/step - loss: 0.0289 - acc: 0.9883 - val_loss: 1.2797 - val_acc: 0.7589\n",
      "Epoch 28/50\n",
      "5/5 [==============================] - 1s 146ms/step - loss: 0.0273 - acc: 0.9898 - val_loss: 1.3291 - val_acc: 0.7584\n",
      "Epoch 29/50\n",
      "5/5 [==============================] - 1s 136ms/step - loss: 0.0258 - acc: 0.9885 - val_loss: 1.3623 - val_acc: 0.7562\n",
      "Epoch 30/50\n",
      "5/5 [==============================] - 1s 145ms/step - loss: 0.0283 - acc: 0.9879 - val_loss: 1.4866 - val_acc: 0.7530\n",
      "Epoch 31/50\n",
      "5/5 [==============================] - 1s 135ms/step - loss: 0.0273 - acc: 0.9889 - val_loss: 1.3607 - val_acc: 0.7562\n",
      "Epoch 32/50\n",
      "5/5 [==============================] - 1s 146ms/step - loss: 0.0260 - acc: 0.9881 - val_loss: 1.2853 - val_acc: 0.7611\n",
      "Epoch 33/50\n",
      "5/5 [==============================] - 1s 217ms/step - loss: 0.0250 - acc: 0.9894 - val_loss: 1.3878 - val_acc: 0.7571\n",
      "Epoch 34/50\n",
      "5/5 [==============================] - 1s 136ms/step - loss: 0.0264 - acc: 0.9875 - val_loss: 1.3709 - val_acc: 0.7539\n",
      "Epoch 35/50\n",
      "5/5 [==============================] - 1s 135ms/step - loss: 0.0257 - acc: 0.9890 - val_loss: 1.2353 - val_acc: 0.7589\n",
      "Epoch 36/50\n",
      "5/5 [==============================] - 1s 150ms/step - loss: 0.0255 - acc: 0.9885 - val_loss: 1.3034 - val_acc: 0.7602\n",
      "Epoch 37/50\n",
      "5/5 [==============================] - 1s 147ms/step - loss: 0.0242 - acc: 0.9887 - val_loss: 1.5706 - val_acc: 0.7553\n",
      "Epoch 38/50\n",
      "5/5 [==============================] - 1s 135ms/step - loss: 0.0244 - acc: 0.9875 - val_loss: 1.6310 - val_acc: 0.7503\n",
      "Epoch 39/50\n",
      "5/5 [==============================] - 1s 137ms/step - loss: 0.0254 - acc: 0.9879 - val_loss: 1.5806 - val_acc: 0.7490\n",
      "Epoch 40/50\n",
      "5/5 [==============================] - 1s 134ms/step - loss: 0.0239 - acc: 0.9885 - val_loss: 1.5237 - val_acc: 0.7548\n",
      "Epoch 41/50\n",
      "5/5 [==============================] - 1s 137ms/step - loss: 0.0231 - acc: 0.9889 - val_loss: 1.4444 - val_acc: 0.7526\n",
      "Epoch 42/50\n",
      "5/5 [==============================] - 1s 134ms/step - loss: 0.0238 - acc: 0.9892 - val_loss: 1.4662 - val_acc: 0.7548\n",
      "Epoch 43/50\n",
      "5/5 [==============================] - 1s 137ms/step - loss: 0.0228 - acc: 0.9887 - val_loss: 1.4332 - val_acc: 0.7526\n",
      "Epoch 44/50\n",
      "5/5 [==============================] - 1s 148ms/step - loss: 0.0222 - acc: 0.9881 - val_loss: 1.6190 - val_acc: 0.7539\n",
      "Epoch 45/50\n",
      "5/5 [==============================] - 1s 142ms/step - loss: 0.0225 - acc: 0.9898 - val_loss: 1.5118 - val_acc: 0.7517\n",
      "Epoch 46/50\n",
      "5/5 [==============================] - 1s 152ms/step - loss: 0.0213 - acc: 0.9885 - val_loss: 1.6164 - val_acc: 0.7512\n",
      "Epoch 47/50\n",
      "5/5 [==============================] - 1s 235ms/step - loss: 0.0218 - acc: 0.9900 - val_loss: 1.6573 - val_acc: 0.7485\n",
      "Epoch 48/50\n",
      "5/5 [==============================] - 1s 196ms/step - loss: 0.0213 - acc: 0.9889 - val_loss: 1.5855 - val_acc: 0.7535\n",
      "Epoch 49/50\n",
      "5/5 [==============================] - 1s 145ms/step - loss: 0.0212 - acc: 0.9887 - val_loss: 1.7025 - val_acc: 0.7544\n",
      "Epoch 50/50\n",
      "5/5 [==============================] - 1s 136ms/step - loss: 0.0215 - acc: 0.9892 - val_loss: 1.5970 - val_acc: 0.7566\n"
     ]
    }
   ],
   "source": [
    "history=model.fit(x=np.array(X_train),y=np.array(y_train),batch_size=1200,epochs=50,\n",
    "          validation_data=(np.array(X_val),np.array(y_val)))"
   ]
  },
  {
   "cell_type": "code",
   "execution_count": 409,
   "metadata": {
    "execution": {
     "iopub.execute_input": "2022-11-29T02:37:50.664272Z",
     "iopub.status.busy": "2022-11-29T02:37:50.663644Z",
     "iopub.status.idle": "2022-11-29T02:37:50.938438Z",
     "shell.execute_reply": "2022-11-29T02:37:50.937568Z",
     "shell.execute_reply.started": "2022-11-29T02:37:50.664232Z"
    }
   },
   "outputs": [
    {
     "data": {
      "text/plain": [
       "<matplotlib.legend.Legend at 0x7fedd4f63d90>"
      ]
     },
     "execution_count": 409,
     "metadata": {},
     "output_type": "execute_result"
    },
    {
     "data": {
      "image/png": "[encoded data removed]",
      "text/plain": [
       "<Figure size 432x288 with 1 Axes>"
      ]
     },
     "metadata": {},
     "output_type": "display_data"
    }
   ],
   "source": [
    "plt.plot(history.history['val_loss'],'r',label='val_loss')\n",
    "plt.plot(history.history['loss'],'b',label='train_loss')\n",
    "plt.legend()"
   ]
  },
  {
   "cell_type": "code",
   "execution_count": 410,
   "metadata": {
    "execution": {
     "iopub.execute_input": "2022-11-29T02:37:50.940001Z",
     "iopub.status.busy": "2022-11-29T02:37:50.939698Z",
     "iopub.status.idle": "2022-11-29T02:37:51.203053Z",
     "shell.execute_reply": "2022-11-29T02:37:51.202121Z",
     "shell.execute_reply.started": "2022-11-29T02:37:50.939976Z"
    }
   },
   "outputs": [
    {
     "data": {
      "text/plain": [
       "<matplotlib.legend.Legend at 0x7fea57f91a90>"
      ]
     },
     "execution_count": 410,
     "metadata": {},
     "output_type": "execute_result"
    },
    {
     "data": {
      "image/png": "[encoded data removed]",
      "text/plain": [
       "<Figure size 432x288 with 1 Axes>"
      ]
     },
     "metadata": {},
     "output_type": "display_data"
    }
   ],
   "source": [
    "plt.plot(history.history['val_acc'],'r',label='val_acc')\n",
    "plt.plot(history.history['acc'],'b',label='train_acc')\n",
    "plt.legend()"
   ]
  },
  {
   "cell_type": "code",
   "execution_count": 411,
   "metadata": {
    "execution": {
     "iopub.execute_input": "2022-11-29T02:37:51.204941Z",
     "iopub.status.busy": "2022-11-29T02:37:51.204346Z",
     "iopub.status.idle": "2022-11-29T02:37:52.293271Z",
     "shell.execute_reply": "2022-11-29T02:37:52.292240Z",
     "shell.execute_reply.started": "2022-11-29T02:37:51.204904Z"
    }
   },
   "outputs": [],
   "source": [
    "predict=model.predict(X_test)"
   ]
  },
  {
   "cell_type": "code",
   "execution_count": 412,
   "metadata": {
    "execution": {
     "iopub.execute_input": "2022-11-29T02:37:52.295133Z",
     "iopub.status.busy": "2022-11-29T02:37:52.294769Z",
     "iopub.status.idle": "2022-11-29T02:37:52.308567Z",
     "shell.execute_reply": "2022-11-29T02:37:52.306379Z",
     "shell.execute_reply.started": "2022-11-29T02:37:52.295094Z"
    }
   },
   "outputs": [],
   "source": [
    "predict_final=[0 if i[0]>=0.5 else 1 for i in predict]\n",
    "test_data['target']=predict_final"
   ]
  },
  {
   "cell_type": "code",
   "execution_count": 413,
   "metadata": {
    "execution": {
     "iopub.execute_input": "2022-11-29T02:37:52.310273Z",
     "iopub.status.busy": "2022-11-29T02:37:52.309908Z",
     "iopub.status.idle": "2022-11-29T02:37:52.325668Z",
     "shell.execute_reply": "2022-11-29T02:37:52.324795Z",
     "shell.execute_reply.started": "2022-11-29T02:37:52.310238Z"
    }
   },
   "outputs": [],
   "source": [
    "submission=test_data[['id','target']]\n",
    "submission.to_csv('submission.csv',index=False)"
   ]
  },
  {
   "attachments": {
    "a8e985b5-f21e-4057-8a29-d85f7b70622f.png": {
     "image/png": "[encoded data removed]"
    }
   },
   "cell_type": "markdown",
   "metadata": {},
   "source": [
    "This public score is terrible. Let's see whether adding GRU will make a difference.\n",
    "![nlp1.png](attachment:a8e985b5-f21e-4057-8a29-d85f7b70622f.png)"
   ]
  },
  {
   "cell_type": "code",
   "execution_count": 414,
   "metadata": {
    "execution": {
     "iopub.execute_input": "2022-11-29T02:37:52.329072Z",
     "iopub.status.busy": "2022-11-29T02:37:52.328386Z",
     "iopub.status.idle": "2022-11-29T02:37:52.513970Z",
     "shell.execute_reply": "2022-11-29T02:37:52.512940Z",
     "shell.execute_reply.started": "2022-11-29T02:37:52.329036Z"
    }
   },
   "outputs": [
    {
     "name": "stdout",
     "output_type": "stream",
     "text": [
      "Model: \"sequential_1\"\n",
      "_________________________________________________________________\n",
      "Layer (type)                 Output Shape              Param #   \n",
      "=================================================================\n",
      "embedding_1 (Embedding)      (None, 20, 100)           1172200   \n",
      "_________________________________________________________________\n",
      "gru (GRU)                    (None, 300)               361800    \n",
      "_________________________________________________________________\n",
      "dense_2 (Dense)              (None, 64)                19264     \n",
      "_________________________________________________________________\n",
      "dense_3 (Dense)              (None, 1)                 65        \n",
      "=================================================================\n",
      "Total params: 1,553,329\n",
      "Trainable params: 1,553,329\n",
      "Non-trainable params: 0\n",
      "_________________________________________________________________\n"
     ]
    }
   ],
   "source": [
    "model2=Sequential()\n",
    "model2.add(Embedding(vocab,100,input_length=max_len,trainable=True,mask_zero=True))\n",
    "model2.add(GRU(300,dropout=0.1,recurrent_dropout=0.2))\n",
    "model2.add(Dense(64,activation='relu'))\n",
    "model2.add(Dense(1,activation='sigmoid'))\n",
    "model2.summary()"
   ]
  },
  {
   "cell_type": "code",
   "execution_count": 415,
   "metadata": {
    "execution": {
     "iopub.execute_input": "2022-11-29T02:37:52.515946Z",
     "iopub.status.busy": "2022-11-29T02:37:52.515332Z",
     "iopub.status.idle": "2022-11-29T02:37:52.527892Z",
     "shell.execute_reply": "2022-11-29T02:37:52.526937Z",
     "shell.execute_reply.started": "2022-11-29T02:37:52.515909Z"
    }
   },
   "outputs": [],
   "source": [
    "model2.compile(optimizer='adam',loss='binary_crossentropy',metrics=['acc'])"
   ]
  },
  {
   "cell_type": "code",
   "execution_count": 416,
   "metadata": {
    "execution": {
     "iopub.execute_input": "2022-11-29T02:37:52.529903Z",
     "iopub.status.busy": "2022-11-29T02:37:52.529502Z",
     "iopub.status.idle": "2022-11-29T02:38:27.120169Z",
     "shell.execute_reply": "2022-11-29T02:38:27.119197Z",
     "shell.execute_reply.started": "2022-11-29T02:37:52.529869Z"
    }
   },
   "outputs": [
    {
     "name": "stdout",
     "output_type": "stream",
     "text": [
      "Epoch 1/50\n",
      "5/5 [==============================] - 3s 211ms/step - loss: 0.6885 - acc: 0.5714 - val_loss: 0.6770 - val_acc: 0.5827\n",
      "Epoch 2/50\n",
      "5/5 [==============================] - 1s 118ms/step - loss: 0.6692 - acc: 0.5735 - val_loss: 0.6509 - val_acc: 0.5840\n",
      "Epoch 3/50\n",
      "5/5 [==============================] - 1s 117ms/step - loss: 0.6056 - acc: 0.6562 - val_loss: 0.5669 - val_acc: 0.7485\n",
      "Epoch 4/50\n",
      "5/5 [==============================] - 1s 120ms/step - loss: 0.4675 - acc: 0.8451 - val_loss: 0.4998 - val_acc: 0.7727\n",
      "Epoch 5/50\n",
      "5/5 [==============================] - 1s 117ms/step - loss: 0.3130 - acc: 0.8908 - val_loss: 0.5342 - val_acc: 0.7741\n",
      "Epoch 6/50\n",
      "5/5 [==============================] - 1s 123ms/step - loss: 0.1980 - acc: 0.9270 - val_loss: 0.5637 - val_acc: 0.7978\n",
      "Epoch 7/50\n",
      "5/5 [==============================] - 1s 156ms/step - loss: 0.1408 - acc: 0.9483 - val_loss: 0.7116 - val_acc: 0.7799\n",
      "Epoch 8/50\n",
      "5/5 [==============================] - 1s 148ms/step - loss: 0.1011 - acc: 0.9643 - val_loss: 0.7702 - val_acc: 0.7857\n",
      "Epoch 9/50\n",
      "5/5 [==============================] - 1s 124ms/step - loss: 0.0720 - acc: 0.9742 - val_loss: 0.8390 - val_acc: 0.7763\n",
      "Epoch 10/50\n",
      "5/5 [==============================] - 1s 134ms/step - loss: 0.0601 - acc: 0.9792 - val_loss: 1.0894 - val_acc: 0.7692\n",
      "Epoch 11/50\n",
      "5/5 [==============================] - 1s 125ms/step - loss: 0.0536 - acc: 0.9825 - val_loss: 1.0099 - val_acc: 0.7696\n",
      "Epoch 12/50\n",
      "5/5 [==============================] - 1s 125ms/step - loss: 0.0468 - acc: 0.9837 - val_loss: 0.9635 - val_acc: 0.7615\n",
      "Epoch 13/50\n",
      "5/5 [==============================] - 1s 127ms/step - loss: 0.0420 - acc: 0.9842 - val_loss: 1.2188 - val_acc: 0.7647\n",
      "Epoch 14/50\n",
      "5/5 [==============================] - 1s 131ms/step - loss: 0.0383 - acc: 0.9842 - val_loss: 1.2597 - val_acc: 0.7624\n",
      "Epoch 15/50\n",
      "5/5 [==============================] - 1s 128ms/step - loss: 0.0366 - acc: 0.9860 - val_loss: 0.9636 - val_acc: 0.7687\n",
      "Epoch 16/50\n",
      "5/5 [==============================] - 1s 133ms/step - loss: 0.0389 - acc: 0.9875 - val_loss: 1.0528 - val_acc: 0.7678\n",
      "Epoch 17/50\n",
      "5/5 [==============================] - 1s 137ms/step - loss: 0.0334 - acc: 0.9860 - val_loss: 1.1701 - val_acc: 0.7566\n",
      "Epoch 18/50\n",
      "5/5 [==============================] - 1s 119ms/step - loss: 0.0343 - acc: 0.9879 - val_loss: 1.1177 - val_acc: 0.7687\n",
      "Epoch 19/50\n",
      "5/5 [==============================] - 1s 116ms/step - loss: 0.0326 - acc: 0.9894 - val_loss: 1.1095 - val_acc: 0.7602\n",
      "Epoch 20/50\n",
      "5/5 [==============================] - 1s 120ms/step - loss: 0.0321 - acc: 0.9877 - val_loss: 1.1772 - val_acc: 0.7553\n",
      "Epoch 21/50\n",
      "5/5 [==============================] - 1s 124ms/step - loss: 0.0311 - acc: 0.9877 - val_loss: 1.1053 - val_acc: 0.7674\n",
      "Epoch 22/50\n",
      "5/5 [==============================] - 1s 119ms/step - loss: 0.0312 - acc: 0.9877 - val_loss: 1.1367 - val_acc: 0.7642\n",
      "Epoch 23/50\n",
      "5/5 [==============================] - 1s 131ms/step - loss: 0.0298 - acc: 0.9881 - val_loss: 1.1525 - val_acc: 0.7615\n",
      "Epoch 24/50\n",
      "5/5 [==============================] - 1s 131ms/step - loss: 0.0279 - acc: 0.9887 - val_loss: 1.2660 - val_acc: 0.7651\n",
      "Epoch 25/50\n",
      "5/5 [==============================] - 1s 173ms/step - loss: 0.0289 - acc: 0.9892 - val_loss: 1.1932 - val_acc: 0.7611\n",
      "Epoch 26/50\n",
      "5/5 [==============================] - 1s 114ms/step - loss: 0.0289 - acc: 0.9887 - val_loss: 1.1101 - val_acc: 0.7562\n",
      "Epoch 27/50\n",
      "5/5 [==============================] - 1s 117ms/step - loss: 0.0252 - acc: 0.9892 - val_loss: 1.3523 - val_acc: 0.7589\n",
      "Epoch 28/50\n",
      "5/5 [==============================] - 1s 128ms/step - loss: 0.0259 - acc: 0.9883 - val_loss: 1.2972 - val_acc: 0.7571\n",
      "Epoch 29/50\n",
      "5/5 [==============================] - 1s 116ms/step - loss: 0.0254 - acc: 0.9889 - val_loss: 1.1805 - val_acc: 0.7575\n",
      "Epoch 30/50\n",
      "5/5 [==============================] - 1s 116ms/step - loss: 0.0242 - acc: 0.9904 - val_loss: 1.4291 - val_acc: 0.7571\n",
      "Epoch 31/50\n",
      "5/5 [==============================] - 1s 115ms/step - loss: 0.0261 - acc: 0.9889 - val_loss: 1.4386 - val_acc: 0.7615\n",
      "Epoch 32/50\n",
      "5/5 [==============================] - 1s 123ms/step - loss: 0.0237 - acc: 0.9898 - val_loss: 1.2105 - val_acc: 0.7589\n",
      "Epoch 33/50\n",
      "5/5 [==============================] - 1s 115ms/step - loss: 0.0232 - acc: 0.9883 - val_loss: 1.2963 - val_acc: 0.7566\n",
      "Epoch 34/50\n",
      "5/5 [==============================] - 1s 121ms/step - loss: 0.0241 - acc: 0.9885 - val_loss: 1.4903 - val_acc: 0.7589\n",
      "Epoch 35/50\n",
      "5/5 [==============================] - 1s 114ms/step - loss: 0.0232 - acc: 0.9896 - val_loss: 1.3899 - val_acc: 0.7562\n",
      "Epoch 36/50\n",
      "5/5 [==============================] - 1s 118ms/step - loss: 0.0232 - acc: 0.9887 - val_loss: 1.4749 - val_acc: 0.7571\n",
      "Epoch 37/50\n",
      "5/5 [==============================] - 1s 122ms/step - loss: 0.0230 - acc: 0.9896 - val_loss: 1.3251 - val_acc: 0.7615\n",
      "Epoch 38/50\n",
      "5/5 [==============================] - 1s 222ms/step - loss: 0.0209 - acc: 0.9898 - val_loss: 1.3948 - val_acc: 0.7606\n",
      "Epoch 39/50\n",
      "5/5 [==============================] - 1s 155ms/step - loss: 0.0214 - acc: 0.9887 - val_loss: 1.4932 - val_acc: 0.7571\n",
      "Epoch 40/50\n",
      "5/5 [==============================] - 1s 122ms/step - loss: 0.0220 - acc: 0.9875 - val_loss: 1.4309 - val_acc: 0.7562\n",
      "Epoch 41/50\n",
      "5/5 [==============================] - 1s 146ms/step - loss: 0.0219 - acc: 0.9883 - val_loss: 1.5831 - val_acc: 0.7571\n",
      "Epoch 42/50\n",
      "5/5 [==============================] - 1s 157ms/step - loss: 0.0209 - acc: 0.9885 - val_loss: 1.3782 - val_acc: 0.7629\n",
      "Epoch 43/50\n",
      "5/5 [==============================] - 1s 118ms/step - loss: 0.0217 - acc: 0.9890 - val_loss: 1.7265 - val_acc: 0.7566\n",
      "Epoch 44/50\n",
      "5/5 [==============================] - 1s 123ms/step - loss: 0.0204 - acc: 0.9898 - val_loss: 1.9578 - val_acc: 0.7521\n",
      "Epoch 45/50\n",
      "5/5 [==============================] - 1s 131ms/step - loss: 0.0207 - acc: 0.9887 - val_loss: 1.3785 - val_acc: 0.7566\n",
      "Epoch 46/50\n",
      "5/5 [==============================] - 1s 129ms/step - loss: 0.0224 - acc: 0.9894 - val_loss: 1.5273 - val_acc: 0.7580\n",
      "Epoch 47/50\n",
      "5/5 [==============================] - 1s 122ms/step - loss: 0.0213 - acc: 0.9887 - val_loss: 1.8403 - val_acc: 0.7580\n",
      "Epoch 48/50\n",
      "5/5 [==============================] - 1s 123ms/step - loss: 0.0256 - acc: 0.9887 - val_loss: 1.6286 - val_acc: 0.7589\n",
      "Epoch 49/50\n",
      "5/5 [==============================] - 1s 134ms/step - loss: 0.0330 - acc: 0.9873 - val_loss: 1.4274 - val_acc: 0.7602\n",
      "Epoch 50/50\n",
      "5/5 [==============================] - 1s 118ms/step - loss: 0.0296 - acc: 0.9862 - val_loss: 1.0843 - val_acc: 0.7589\n"
     ]
    }
   ],
   "source": [
    "history2=model2.fit(x=np.array(X_train),y=np.array(y_train),batch_size=1200,epochs=50,\n",
    "          validation_data=(np.array(X_val),np.array(y_val)))"
   ]
  },
  {
   "cell_type": "code",
   "execution_count": 417,
   "metadata": {
    "execution": {
     "iopub.execute_input": "2022-11-29T02:38:27.121943Z",
     "iopub.status.busy": "2022-11-29T02:38:27.121580Z",
     "iopub.status.idle": "2022-11-29T02:38:27.398196Z",
     "shell.execute_reply": "2022-11-29T02:38:27.397190Z",
     "shell.execute_reply.started": "2022-11-29T02:38:27.121908Z"
    }
   },
   "outputs": [
    {
     "data": {
      "text/plain": [
       "<matplotlib.legend.Legend at 0x7fedd4caadd0>"
      ]
     },
     "execution_count": 417,
     "metadata": {},
     "output_type": "execute_result"
    },
    {
     "data": {
      "image/png": "[encoded data removed]",
      "text/plain": [
       "<Figure size 432x288 with 1 Axes>"
      ]
     },
     "metadata": {},
     "output_type": "display_data"
    }
   ],
   "source": [
    "plt.plot(history2.history['val_loss'],'r',label='val_loss')\n",
    "plt.plot(history2.history['loss'],'b',label='train_loss')\n",
    "plt.legend()"
   ]
  },
  {
   "cell_type": "code",
   "execution_count": 418,
   "metadata": {
    "execution": {
     "iopub.execute_input": "2022-11-29T02:38:27.399902Z",
     "iopub.status.busy": "2022-11-29T02:38:27.399580Z",
     "iopub.status.idle": "2022-11-29T02:38:27.656039Z",
     "shell.execute_reply": "2022-11-29T02:38:27.655101Z",
     "shell.execute_reply.started": "2022-11-29T02:38:27.399868Z"
    }
   },
   "outputs": [
    {
     "data": {
      "text/plain": [
       "<matplotlib.legend.Legend at 0x7fea57b52b90>"
      ]
     },
     "execution_count": 418,
     "metadata": {},
     "output_type": "execute_result"
    },
    {
     "data": {
      "image/png": "[encoded data removed]",
      "text/plain": [
       "<Figure size 432x288 with 1 Axes>"
      ]
     },
     "metadata": {},
     "output_type": "display_data"
    }
   ],
   "source": [
    "plt.plot(history2.history['val_acc'],'r',label='val_acc')\n",
    "plt.plot(history2.history['acc'],'b',label='train_acc')\n",
    "plt.legend()"
   ]
  },
  {
   "cell_type": "code",
   "execution_count": 419,
   "metadata": {
    "execution": {
     "iopub.execute_input": "2022-11-29T02:38:27.657687Z",
     "iopub.status.busy": "2022-11-29T02:38:27.657348Z",
     "iopub.status.idle": "2022-11-29T02:38:28.830131Z",
     "shell.execute_reply": "2022-11-29T02:38:28.829144Z",
     "shell.execute_reply.started": "2022-11-29T02:38:27.657653Z"
    }
   },
   "outputs": [],
   "source": [
    "predict=model2.predict(X_test)"
   ]
  },
  {
   "cell_type": "code",
   "execution_count": 420,
   "metadata": {
    "execution": {
     "iopub.execute_input": "2022-11-29T02:38:28.832187Z",
     "iopub.status.busy": "2022-11-29T02:38:28.831821Z",
     "iopub.status.idle": "2022-11-29T02:38:28.848818Z",
     "shell.execute_reply": "2022-11-29T02:38:28.847911Z",
     "shell.execute_reply.started": "2022-11-29T02:38:28.832131Z"
    }
   },
   "outputs": [],
   "source": [
    "predict_final=[0 if i[0]>=0.5 else 1 for i in predict]\n",
    "test_data['target']=predict_final"
   ]
  },
  {
   "cell_type": "code",
   "execution_count": 422,
   "metadata": {
    "execution": {
     "iopub.execute_input": "2022-11-29T02:38:39.447904Z",
     "iopub.status.busy": "2022-11-29T02:38:39.447220Z",
     "iopub.status.idle": "2022-11-29T02:38:39.459577Z",
     "shell.execute_reply": "2022-11-29T02:38:39.458542Z",
     "shell.execute_reply.started": "2022-11-29T02:38:39.447867Z"
    }
   },
   "outputs": [],
   "source": [
    "submission=test_data[['id','target']]\n",
    "submission.to_csv('submission.csv',index=False)"
   ]
  },
  {
   "attachments": {
    "440ebdbc-71c4-47f0-bc98-234819abc4ee.png": {
     "image/png": "[encoded data removed]"
    }
   },
   "cell_type": "markdown",
   "metadata": {},
   "source": [
    "A slight improvement but not much of a change. \n",
    "![NLP2.png](attachment:440ebdbc-71c4-47f0-bc98-234819abc4ee.png)"
   ]
  },
  {
   "cell_type": "markdown",
   "metadata": {},
   "source": [
    "# Analysis\n",
    "\n",
    "Certainly disheartening is how our models fared. There are a number potential causes for this, including:\n",
    "\n",
    "* Our model(s) did not generalize well to new data because they were overfit to the training data and were too simplistic for the given data.\n",
    "* We also cleaned the data improperly for this data.\n",
    "* There wasn't enough data to train the model(s) with, or they weren't the correct model for the project. \n",
    "* The suspicion is that our models were overfitted and overly simplistic, however there are numerous other explanations for why our model did somewhat better than random guessing."
   ]
  },
  {
   "cell_type": "markdown",
   "metadata": {},
   "source": [
    "# Conclusion\n",
    "\n",
    "\n",
    "\n",
    "Before we cleaned the data, we first imported it to have a decent idea of how the training data appears. We also made a lot of the data visual. The training data was then preprocessed by counting punctuation, changing the appearance of the numbers, and changing the language to make it simpler for a computer to grasp. In order to effectively train our models, we divided the training data into two subsets, training and validation, once it was ready. Then, by outlining their hyperparameters, structures, and optimizers, we trained the two models—LSTM and GRU—that we had previously defined in great detail. Finally, we ran both models through the testing phase, and the Kaggle competition page displayed our F1 score.The models didn't perform as well as we had hoped overall. These two models, however, were both quite straightforward and likely overfitted to the training set of data. We believed we had a fair notion of how the models would perform based on the graphs displaying the various metrics per epoch utilized in each model; they appeared to be performing well! It's important to remember that just because your model appears to perform well on training and validation data, it doesn't necessarily follow that it will do so on new data. Our models are a prime illustration of this. Perhaps using additional data, a different text cleaning technique, fewer epochs (to avoid overfitting), or even a new model structure would have yielded better results.\n",
    "\n"
   ]
  },
  {
   "cell_type": "code",
   "execution_count": null,
   "metadata": {},
   "outputs": [],
   "source": [
    "a"
   ]
  }
 ],
 "metadata": {
  "kernelspec": {
   "display_name": "Python 3 (ipykernel)",
   "language": "python",
   "name": "python3"
  },
  "language_info": {
   "codemirror_mode": {
    "name": "ipython",
    "version": 3
   },
   "file_extension": ".py",
   "mimetype": "text/x-python",
   "name": "python",
   "nbconvert_exporter": "python",
   "pygments_lexer": "ipython3",
   "version": "3.11.5"
  }
 },
 "nbformat": 4,
 "nbformat_minor": 4
}
